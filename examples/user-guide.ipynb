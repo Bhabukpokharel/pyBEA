{
 "cells": [
  {
   "cell_type": "markdown",
   "metadata": {},
   "source": [
    "# Introduction\n",
    "\n",
    "The Bureau of Economic Analysis (BEA) publishes economic statistics in a variety of formats. This document describes the BEA Data Retrieval Application Programming Interface (API) – including detailed instructions for retrieving data and meta-data published by BEA using the pyBEA package. \n",
    "\n",
    "The pyBEA pacakge provides a simple interface to the BEA API and includes methods for retrieving a subset of BEA statistical data, including any meta-data describing it, and loading the results into a Pandas DataFrame object for further analysis.\n",
    "\n",
    "## Data Return Format\n",
    "The BEA API returns data in one of two formats: JSON or XML (with JSON being the default). Currently the pyBEA package only supports JSON requests.\n"
   ]
  },
  {
   "cell_type": "code",
   "execution_count": null,
   "metadata": {
    "collapsed": true
   },
   "outputs": [],
   "source": [
    "import pybea"
   ]
  },
  {
   "cell_type": "markdown",
   "metadata": {},
   "source": [
    "## Meta-Data API Methods\n",
    "\n",
    "The BEA API contains three methods for retrieving meta-data as follows:\n",
    "\n",
    "1. `GetDataSetList`: retrieves a list of the datasets currently offered.\n",
    "2. `GetParameterList`: retrieves a list of the parameters (required and optional) for a particular dataset.\n",
    "3. `GetParameterValues`: retrieves a list of the valid values for a particular parameter.\n",
    "\n",
    "Each of these methods has a corresponding function in the `pybea` package."
   ]
  },
  {
   "cell_type": "code",
   "execution_count": null,
   "metadata": {
    "collapsed": true
   },
   "outputs": [],
   "source": [
    "pybea.get_data_set_list?"
   ]
  },
  {
   "cell_type": "code",
   "execution_count": null,
   "metadata": {
    "collapsed": true
   },
   "outputs": [],
   "source": [
    "pybea.get_parameter_list?"
   ]
  },
  {
   "cell_type": "code",
   "execution_count": null,
   "metadata": {
    "collapsed": true
   },
   "outputs": [],
   "source": [
    "pybea.get_parameter_values?"
   ]
  },
  {
   "cell_type": "markdown",
   "metadata": {},
   "source": [
    "### Example usage"
   ]
  },
  {
   "cell_type": "code",
   "execution_count": null,
   "metadata": {
    "collapsed": true
   },
   "outputs": [],
   "source": [
    "# replace this with your BEA data API key!\n",
    "USER_ID = ???"
   ]
  },
  {
   "cell_type": "code",
   "execution_count": null,
   "metadata": {},
   "outputs": [],
   "source": [
    "# access the BEA data API...\n",
    "available_datasets = pybea.get_data_set_list(USER_ID)\n",
    "available_datasets"
   ]
  },
  {
   "cell_type": "code",
   "execution_count": null,
   "metadata": {},
   "outputs": [],
   "source": [
    "regional_income_params = pybea.get_parameter_list(USER_ID, DataSetName='RegionalIncome')\n",
    "regional_income_params"
   ]
  },
  {
   "cell_type": "code",
   "execution_count": null,
   "metadata": {},
   "outputs": [],
   "source": [
    "regional_income_geofips = pybea.get_parameter_values(USER_ID, DataSetName='RegionalIncome',\n",
    "                                                     ParameterName='GeoFips')\n",
    "regional_income_geofips"
   ]
  },
  {
   "cell_type": "markdown",
   "metadata": {},
   "source": [
    "## Data Retrieval API Method\n",
    "\n",
    "The BEA API has one method for retrieving data: `GetData`. This method has its own function in the `pybea` package. "
   ]
  },
  {
   "cell_type": "code",
   "execution_count": null,
   "metadata": {
    "collapsed": true
   },
   "outputs": [],
   "source": [
    "pybea.get_data?"
   ]
  },
  {
   "cell_type": "markdown",
   "metadata": {},
   "source": [
    "# RegionalIncome\n",
    "\n",
    "## Example Usage\n",
    "\n",
    "Fetch data on personal income for 2012 and 2013 for all counties, in JSON format"
   ]
  },
  {
   "cell_type": "code",
   "execution_count": null,
   "metadata": {
    "collapsed": true
   },
   "outputs": [],
   "source": [
    "data = pybea.get_data(USER_ID,\n",
    "                      DataSetName='RegionalIncome',\n",
    "                      TableName='CA1',\n",
    "                      LineCode=1,\n",
    "                      GeoFips='COUNTY',\n",
    "                      Year=['2012', '2013'],\n",
    "                      )"
   ]
  },
  {
   "cell_type": "code",
   "execution_count": null,
   "metadata": {},
   "outputs": [],
   "source": [
    "data.head()"
   ]
  },
  {
   "cell_type": "code",
   "execution_count": null,
   "metadata": {},
   "outputs": [],
   "source": [
    "data.tail()"
   ]
  },
  {
   "cell_type": "markdown",
   "metadata": {},
   "source": [
    "# RegionalProduct\n",
    "\n",
    "## Example Usage\n",
    "Real GDP for all years for all MSAs, in JSON format"
   ]
  },
  {
   "cell_type": "code",
   "execution_count": 6,
   "metadata": {},
   "outputs": [
    {
     "data": {
      "text/html": [
       "<div>\n",
       "<style>\n",
       "    .dataframe thead tr:only-child th {\n",
       "        text-align: right;\n",
       "    }\n",
       "\n",
       "    .dataframe thead th {\n",
       "        text-align: left;\n",
       "    }\n",
       "\n",
       "    .dataframe tbody tr th {\n",
       "        vertical-align: top;\n",
       "    }\n",
       "</style>\n",
       "<table border=\"1\" class=\"dataframe\">\n",
       "  <thead>\n",
       "    <tr style=\"text-align: right;\">\n",
       "      <th></th>\n",
       "      <th>CL_UNIT</th>\n",
       "      <th>Code</th>\n",
       "      <th>DataValue</th>\n",
       "      <th>GeoFips</th>\n",
       "      <th>GeoName</th>\n",
       "      <th>TimePeriod</th>\n",
       "      <th>UNIT_MULT</th>\n",
       "    </tr>\n",
       "  </thead>\n",
       "  <tbody>\n",
       "    <tr>\n",
       "      <th>0</th>\n",
       "      <td>millions of chained 2009 dollars</td>\n",
       "      <td>RGDP_MAN-1</td>\n",
       "      <td>4666</td>\n",
       "      <td>10180</td>\n",
       "      <td>Abilene, TX (Metropolitan Statistical Area)</td>\n",
       "      <td>2001</td>\n",
       "      <td>6</td>\n",
       "    </tr>\n",
       "    <tr>\n",
       "      <th>1</th>\n",
       "      <td>millions of chained 2009 dollars</td>\n",
       "      <td>RGDP_MAN-1</td>\n",
       "      <td>4817</td>\n",
       "      <td>10180</td>\n",
       "      <td>Abilene, TX (Metropolitan Statistical Area)</td>\n",
       "      <td>2002</td>\n",
       "      <td>6</td>\n",
       "    </tr>\n",
       "    <tr>\n",
       "      <th>2</th>\n",
       "      <td>millions of chained 2009 dollars</td>\n",
       "      <td>RGDP_MAN-1</td>\n",
       "      <td>4916</td>\n",
       "      <td>10180</td>\n",
       "      <td>Abilene, TX (Metropolitan Statistical Area)</td>\n",
       "      <td>2003</td>\n",
       "      <td>6</td>\n",
       "    </tr>\n",
       "    <tr>\n",
       "      <th>3</th>\n",
       "      <td>millions of chained 2009 dollars</td>\n",
       "      <td>RGDP_MAN-1</td>\n",
       "      <td>5008</td>\n",
       "      <td>10180</td>\n",
       "      <td>Abilene, TX (Metropolitan Statistical Area)</td>\n",
       "      <td>2004</td>\n",
       "      <td>6</td>\n",
       "    </tr>\n",
       "    <tr>\n",
       "      <th>4</th>\n",
       "      <td>millions of chained 2009 dollars</td>\n",
       "      <td>RGDP_MAN-1</td>\n",
       "      <td>4989</td>\n",
       "      <td>10180</td>\n",
       "      <td>Abilene, TX (Metropolitan Statistical Area)</td>\n",
       "      <td>2005</td>\n",
       "      <td>6</td>\n",
       "    </tr>\n",
       "  </tbody>\n",
       "</table>\n",
       "</div>"
      ],
      "text/plain": [
       "                            CL_UNIT        Code  DataValue  GeoFips  \\\n",
       "0  millions of chained 2009 dollars  RGDP_MAN-1       4666    10180   \n",
       "1  millions of chained 2009 dollars  RGDP_MAN-1       4817    10180   \n",
       "2  millions of chained 2009 dollars  RGDP_MAN-1       4916    10180   \n",
       "3  millions of chained 2009 dollars  RGDP_MAN-1       5008    10180   \n",
       "4  millions of chained 2009 dollars  RGDP_MAN-1       4989    10180   \n",
       "\n",
       "                                       GeoName  TimePeriod  UNIT_MULT  \n",
       "0  Abilene, TX (Metropolitan Statistical Area)        2001          6  \n",
       "1  Abilene, TX (Metropolitan Statistical Area)        2002          6  \n",
       "2  Abilene, TX (Metropolitan Statistical Area)        2003          6  \n",
       "3  Abilene, TX (Metropolitan Statistical Area)        2004          6  \n",
       "4  Abilene, TX (Metropolitan Statistical Area)        2005          6  "
      ]
     },
     "execution_count": 6,
     "metadata": {},
     "output_type": "execute_result"
    }
   ],
   "source": [
    "data = pybea.get_data(USER_ID,\n",
    "                      DataSetName='RegionalProduct',\n",
    "                      Component=\"RGDP_MAN\",\n",
    "                      IndustryId=1,\n",
    "                      GeoFips=\"MSA\",\n",
    "                      Year=\"ALL\",\n",
    "                      )\n",
    "\n",
    "# ...display the resulting Pandas DataFrame\n",
    "data.head()"
   ]
  },
  {
   "cell_type": "code",
   "execution_count": 7,
   "metadata": {},
   "outputs": [
    {
     "data": {
      "text/html": [
       "<div>\n",
       "<style>\n",
       "    .dataframe thead tr:only-child th {\n",
       "        text-align: right;\n",
       "    }\n",
       "\n",
       "    .dataframe thead th {\n",
       "        text-align: left;\n",
       "    }\n",
       "\n",
       "    .dataframe tbody tr th {\n",
       "        vertical-align: top;\n",
       "    }\n",
       "</style>\n",
       "<table border=\"1\" class=\"dataframe\">\n",
       "  <thead>\n",
       "    <tr style=\"text-align: right;\">\n",
       "      <th></th>\n",
       "      <th>CL_UNIT</th>\n",
       "      <th>Code</th>\n",
       "      <th>DataValue</th>\n",
       "      <th>GeoFips</th>\n",
       "      <th>GeoName</th>\n",
       "      <th>TimePeriod</th>\n",
       "      <th>UNIT_MULT</th>\n",
       "    </tr>\n",
       "  </thead>\n",
       "  <tbody>\n",
       "    <tr>\n",
       "      <th>5725</th>\n",
       "      <td>millions of chained 2009 dollars</td>\n",
       "      <td>RGDP_MAN-1</td>\n",
       "      <td>5199</td>\n",
       "      <td>49740</td>\n",
       "      <td>Yuma, AZ (Metropolitan Statistical Area)</td>\n",
       "      <td>2011</td>\n",
       "      <td>6</td>\n",
       "    </tr>\n",
       "    <tr>\n",
       "      <th>5726</th>\n",
       "      <td>millions of chained 2009 dollars</td>\n",
       "      <td>RGDP_MAN-1</td>\n",
       "      <td>4831</td>\n",
       "      <td>49740</td>\n",
       "      <td>Yuma, AZ (Metropolitan Statistical Area)</td>\n",
       "      <td>2012</td>\n",
       "      <td>6</td>\n",
       "    </tr>\n",
       "    <tr>\n",
       "      <th>5727</th>\n",
       "      <td>millions of chained 2009 dollars</td>\n",
       "      <td>RGDP_MAN-1</td>\n",
       "      <td>5081</td>\n",
       "      <td>49740</td>\n",
       "      <td>Yuma, AZ (Metropolitan Statistical Area)</td>\n",
       "      <td>2013</td>\n",
       "      <td>6</td>\n",
       "    </tr>\n",
       "    <tr>\n",
       "      <th>5728</th>\n",
       "      <td>millions of chained 2009 dollars</td>\n",
       "      <td>RGDP_MAN-1</td>\n",
       "      <td>4908</td>\n",
       "      <td>49740</td>\n",
       "      <td>Yuma, AZ (Metropolitan Statistical Area)</td>\n",
       "      <td>2014</td>\n",
       "      <td>6</td>\n",
       "    </tr>\n",
       "    <tr>\n",
       "      <th>5729</th>\n",
       "      <td>millions of chained 2009 dollars</td>\n",
       "      <td>RGDP_MAN-1</td>\n",
       "      <td>4981</td>\n",
       "      <td>49740</td>\n",
       "      <td>Yuma, AZ (Metropolitan Statistical Area)</td>\n",
       "      <td>2015</td>\n",
       "      <td>6</td>\n",
       "    </tr>\n",
       "  </tbody>\n",
       "</table>\n",
       "</div>"
      ],
      "text/plain": [
       "                               CL_UNIT        Code  DataValue  GeoFips  \\\n",
       "5725  millions of chained 2009 dollars  RGDP_MAN-1       5199    49740   \n",
       "5726  millions of chained 2009 dollars  RGDP_MAN-1       4831    49740   \n",
       "5727  millions of chained 2009 dollars  RGDP_MAN-1       5081    49740   \n",
       "5728  millions of chained 2009 dollars  RGDP_MAN-1       4908    49740   \n",
       "5729  millions of chained 2009 dollars  RGDP_MAN-1       4981    49740   \n",
       "\n",
       "                                       GeoName  TimePeriod  UNIT_MULT  \n",
       "5725  Yuma, AZ (Metropolitan Statistical Area)        2011          6  \n",
       "5726  Yuma, AZ (Metropolitan Statistical Area)        2012          6  \n",
       "5727  Yuma, AZ (Metropolitan Statistical Area)        2013          6  \n",
       "5728  Yuma, AZ (Metropolitan Statistical Area)        2014          6  \n",
       "5729  Yuma, AZ (Metropolitan Statistical Area)        2015          6  "
      ]
     },
     "execution_count": 7,
     "metadata": {},
     "output_type": "execute_result"
    }
   ],
   "source": [
    "data.tail()"
   ]
  },
  {
   "cell_type": "markdown",
   "metadata": {},
   "source": [
    "# NIPA (National Income and Product Accounts)\n",
    "\n",
    "The NIPA dataset contains data from the standard set of NIPA tables as published in the Survey of Current Business. Availability of updated NIPA data follows the BEA News Release schedule as posted on the BEA web site. The NIPA dataset may be unavailable for a few minutes preceding the monthly GDP release while data is being updated (as it is for all other methods of acquiring newly released data). "
   ]
  },
  {
   "cell_type": "code",
   "execution_count": null,
   "metadata": {},
   "outputs": [],
   "source": [
    "meta_data = pybea.get_parameter_list(USER_ID, DataSetName='NIPA')\n",
    "meta_data"
   ]
  },
  {
   "cell_type": "code",
   "execution_count": null,
   "metadata": {},
   "outputs": [],
   "source": [
    "meta_data = pybea.get_parameter_values(USER_ID,\n",
    "                                       DataSetName='NIPA',\n",
    "                                       ParameterName='TableID')\n",
    "meta_data"
   ]
  },
  {
   "cell_type": "markdown",
   "metadata": {},
   "source": [
    "# NIUnderlyingDetail (National Income and Product Accounts)\n",
    "\n",
    "The NIUnderlyingDetail dataset contains detailed estimate data from underlying NIPA series that appear in the national income and product account (NIPA) tables as published in the Survey of Current Business."
   ]
  },
  {
   "cell_type": "code",
   "execution_count": null,
   "metadata": {
    "collapsed": true
   },
   "outputs": [],
   "source": []
  },
  {
   "cell_type": "markdown",
   "metadata": {},
   "source": [
    "# Fixed Assets\n",
    "\n",
    "The FixedAssets dataset contains data from the standard set of Fixed Assets tables as published online. "
   ]
  },
  {
   "cell_type": "code",
   "execution_count": null,
   "metadata": {
    "collapsed": true
   },
   "outputs": [],
   "source": []
  }
 ],
 "metadata": {
  "kernelspec": {
   "display_name": "Python 3",
   "language": "python",
   "name": "python3"
  },
  "language_info": {
   "codemirror_mode": {
    "name": "ipython",
    "version": 3
   },
   "file_extension": ".py",
   "mimetype": "text/x-python",
   "name": "python",
   "nbconvert_exporter": "python",
   "pygments_lexer": "ipython3",
   "version": "3.6.3"
  }
 },
 "nbformat": 4,
 "nbformat_minor": 1
}
