{
 "cells": [
  {
   "cell_type": "markdown",
   "metadata": {},
   "source": [
    "# Introduction\n",
    "\n",
    "The Bureau of Economic Analysis (BEA) publishes economic statistics in a variety of formats. This document describes the BEA Data Retrieval Application Programming Interface (API) – including detailed instructions for retrieving data and meta-data published by BEA using the pyBEA package. \n",
    "\n",
    "The pyBEA pacakge provides a simple interface to the BEA API and includes methods for retrieving a subset of BEA statistical data, including any meta-data describing it, and loading the results into a Pandas DataFrame object for further analysis.\n",
    "\n",
    "## Data Return Format\n",
    "The BEA API returns data in one of two formats: JSON or XML (with JSON being the default). Currently the pyBEA package only supports JSON requests.\n"
   ]
  },
  {
   "cell_type": "code",
   "execution_count": 1,
   "metadata": {
    "collapsed": false
   },
   "outputs": [],
   "source": [
    "import pybea"
   ]
  },
  {
   "cell_type": "markdown",
   "metadata": {},
   "source": [
    "## Meta-Data API Methods\n",
    "\n",
    "The BEA API contains three methods for retrieving meta-data as follows:\n",
    "\n",
    "1. `GetDataSetList`: retrieves a list of the datasets currently offered.\n",
    "2. `GetParameterList`: retrieves a list of the parameters (required and optional) for a particular dataset.\n",
    "3. `GetParameterValues`: retrieves a list of the valid values for a particular parameter.\n",
    "\n",
    "Each of these methods has a corresponding function in the `pybea` package."
   ]
  },
  {
   "cell_type": "code",
   "execution_count": 2,
   "metadata": {
    "collapsed": false
   },
   "outputs": [],
   "source": [
    "pybea.get_data_set_list?"
   ]
  },
  {
   "cell_type": "code",
   "execution_count": 3,
   "metadata": {
    "collapsed": false
   },
   "outputs": [],
   "source": [
    "pybea.get_parameter_list?"
   ]
  },
  {
   "cell_type": "code",
   "execution_count": 4,
   "metadata": {
    "collapsed": false
   },
   "outputs": [],
   "source": [
    "pybea.get_parameter_values?"
   ]
  },
  {
   "cell_type": "markdown",
   "metadata": {},
   "source": [
    "### Example usage"
   ]
  },
  {
   "cell_type": "code",
   "execution_count": 5,
   "metadata": {
    "collapsed": true
   },
   "outputs": [],
   "source": [
    "# replace this with your BEA data API key!\n",
    "USER_ID = '98A0A0A7-21DF-4B75-96DE-1410D47AB280'"
   ]
  },
  {
   "cell_type": "code",
   "execution_count": 3,
   "metadata": {
    "collapsed": false
   },
   "outputs": [
    {
     "name": "stdout",
     "output_type": "stream",
     "text": [
      "                      DatasetDescription              DatasetName\n",
      "0    Retrieves various Regional datasets             RegionalData\n",
      "1                   Standard NIPA tables                     NIPA\n",
      "2   Standard NI underlying detail tables       NIUnderlyingDetail\n",
      "3              Multinational Enterprises                      MNE\n",
      "4           Standard Fixed Assets tables              FixedAssets\n",
      "5    International Transactions Accounts                      ITA\n",
      "6      International Investment Position                      IIP\n",
      "7                        GDP by Industry            GDPbyIndustry\n",
      "8     Detailed Regional Income data sets           RegionalIncome\n",
      "9    Detailed Regional Product data sets          RegionalProduct\n",
      "10                     Input-Output Data              InputOutput\n",
      "11            Underlying GDP by Industry  UnderlyingGDPbyIndustry\n"
     ]
    }
   ],
   "source": [
    "# access the BEA data API...\n",
    "meta_data = pybea.get_data_set_list(USER_ID)\n",
    "\n",
    "# ...display the resulting Pandas DataFrame\n",
    "print(meta_data)"
   ]
  },
  {
   "cell_type": "code",
   "execution_count": 10,
   "metadata": {
    "collapsed": false
   },
   "outputs": [
    {
     "name": "stdout",
     "output_type": "stream",
     "text": [
      "  AllValue  MultipleAcceptedFlag ParameterDataType ParameterDefaultValue  \\\n",
      "0                              0            string                         \n",
      "1                              1            string                         \n",
      "2      ALL                     1           integer                   ALL   \n",
      "\n",
      "                      ParameterDescription  ParameterIsRequiredFlag  \\\n",
      "0  The code of the key statistic requested                        1   \n",
      "1                             GeoFips Code                        0   \n",
      "2                                     Year                        0   \n",
      "\n",
      "  ParameterName  \n",
      "0       KeyCode  \n",
      "1       GeoFips  \n",
      "2          Year  \n"
     ]
    }
   ],
   "source": [
    "# access the BEA data API...\n",
    "meta_data = pybea.get_parameter_list(USER_ID, DataSetName='RegionalData')\n",
    "\n",
    "# ...display the resulting Pandas DataFrame\n",
    "print(meta_data)"
   ]
  },
  {
   "cell_type": "code",
   "execution_count": 9,
   "metadata": {
    "collapsed": false
   },
   "outputs": [
    {
     "name": "stdout",
     "output_type": "stream",
     "text": [
      "         KeyCode  YearRange\n",
      "0          AR_CI  1969-2014\n",
      "1          AR_MI  1969-2014\n",
      "2          AR_QI  1948-2015\n",
      "3          AR_SI  1948-2014\n",
      "4        CGSI_CI  1969-2014\n",
      "5        CGSI_MI  1969-2014\n",
      "6        CGSI_QI  1948-2015\n",
      "7        CGSI_SI  1929-2014\n",
      "8        COMP_SP  1997-2013\n",
      "9         DIR_CI  1969-2014\n",
      "10        DIR_MI  1969-2014\n",
      "11        DIR_QI  1948-2015\n",
      "12        DIR_SI  1929-2014\n",
      "13        DPI_SI  1948-2014\n",
      "14       EARN_CI  1969-2014\n",
      "15       EARN_MI  1969-2014\n",
      "16       EARN_QI  1948-2015\n",
      "17       EARN_SI  1929-2014\n",
      "18     EMP000_CI  1969-2014\n",
      "19     EMP000_MI  1969-2014\n",
      "20     EMP000_SI  1969-2014\n",
      "21     EMP100_CI  1969-2014\n",
      "22     EMP100_MI  1969-2014\n",
      "23     EMP100_SI  1969-2014\n",
      "24     EMP200_CI  1969-2014\n",
      "25     EMP200_MI  1969-2014\n",
      "26     EMP200_SI  1969-2014\n",
      "27        FPI_CI  1969-2014\n",
      "28        FPI_MI  1969-2014\n",
      "29        FPI_QI  1948-2015\n",
      "..           ...        ...\n",
      "87       RGDP_SP  1997-2014\n",
      "88      RPCPI_MI  2008-2013\n",
      "89      RPCPI_SI  2008-2013\n",
      "90        RPI_MI  2008-2013\n",
      "91        RPI_SI  2008-2013\n",
      "92     RPPALL_MI  2008-2013\n",
      "93     RPPALL_SI  2008-2013\n",
      "94   RPPGOODS_MI  2008-2013\n",
      "95   RPPGOODS_SI  2008-2013\n",
      "96     RPPIPD_MI  2008-2013\n",
      "97     RPPIPD_SI  2008-2013\n",
      "98   RPPOTHER_MI  2008-2013\n",
      "99   RPPOTHER_SI  2008-2013\n",
      "100  RPPRENTS_MI  2008-2013\n",
      "101  RPPRENTS_SI  2008-2013\n",
      "102      SUBS_SP  1997-2013\n",
      "103      SUPP_CI  1969-2014\n",
      "104      SUPP_MI  1969-2014\n",
      "105      SUPP_QI  1948-2015\n",
      "106      SUPP_SI  1929-2014\n",
      "107      TOPI_SP  1997-2013\n",
      "108    TOPILS_SP  1997-2013\n",
      "109       TPI_CI  1969-2014\n",
      "110       TPI_MI  1969-2014\n",
      "111       TPI_QI  1948-2015\n",
      "112       TPI_SI  1929-2014\n",
      "113        WS_CI  1969-2014\n",
      "114        WS_MI  1969-2014\n",
      "115        WS_QI  1948-2015\n",
      "116        WS_SI  1929-2014\n",
      "\n",
      "[117 rows x 2 columns]\n"
     ]
    }
   ],
   "source": [
    "# access the BEA data API...\n",
    "meta_data = pybea.get_parameter_values(USER_ID, DataSetName='RegionalData',\n",
    "                                       ParameterName='KeyCode')\n",
    "\n",
    "# ...display the resulting Pandas DataFrame\n",
    "print(meta_data)"
   ]
  },
  {
   "cell_type": "markdown",
   "metadata": {},
   "source": [
    "## Data Retrieval API Method\n",
    "\n",
    "The BEA API has one method for retrieving data: `GetData`. This method has its own function in the `pybea` package. "
   ]
  },
  {
   "cell_type": "code",
   "execution_count": 14,
   "metadata": {
    "collapsed": false
   },
   "outputs": [],
   "source": [
    "pybea.get_data?"
   ]
  },
  {
   "cell_type": "markdown",
   "metadata": {},
   "source": [
    "### Example Usage\n",
    "\n",
    "Fetch data on per capita personal income for all U.S. States in the year 2009."
   ]
  },
  {
   "cell_type": "code",
   "execution_count": 13,
   "metadata": {
    "collapsed": false
   },
   "outputs": [
    {
     "name": "stdout",
     "output_type": "stream",
     "text": [
      "  CL_UNIT     Code  DataValue  GeoFips        GeoName NoteRef  TimePeriod  \\\n",
      "0     USD  PCPI_CI      39376        0  United States     NaN        2009   \n",
      "1     USD  PCPI_CI      33027     1000        Alabama     NaN        2009   \n",
      "2     USD  PCPI_CI      46192     2000         Alaska       *        2009   \n",
      "3     USD  PCPI_CI      34063     4000        Arizona       *        2009   \n",
      "4     USD  PCPI_CI      31629     5000       Arkansas     NaN        2009   \n",
      "\n",
      "   UNIT_MULT  \n",
      "0          0  \n",
      "1          0  \n",
      "2          0  \n",
      "3          0  \n",
      "4          0  \n"
     ]
    }
   ],
   "source": [
    "# access the BEA data API...\n",
    "data = pybea.get_data(USER_ID,\n",
    "                      DataSetName='RegionalData',\n",
    "                      KeyCodes=['PCPI_CI'],\n",
    "                      GeoFips='STATE',\n",
    "                      Year='2009',\n",
    "                      )\n",
    "\n",
    "# ...display the resulting Pandas DataFrame\n",
    "print(data.head())"
   ]
  },
  {
   "cell_type": "markdown",
   "metadata": {},
   "source": [
    "# RegionalData\n",
    "\n",
    "The RegionalData dataset contains estimates from the Regional Economic Accounts. These include estimates of GDP by State and Metropolitan Area, and estimates of Personal Income and Employment by State, Metropolitan Area, and County. "
   ]
  },
  {
   "cell_type": "code",
   "execution_count": 12,
   "metadata": {
    "collapsed": false
   },
   "outputs": [
    {
     "name": "stdout",
     "output_type": "stream",
     "text": [
      "  CL_UNIT     Code  DataValue  GeoFips        GeoName NoteRef  TimePeriod  \\\n",
      "0     USD  PCPI_CI      30602        0  United States     NaN        2000   \n",
      "1     USD  PCPI_CI      35904        0  United States     NaN        2005   \n",
      "2     USD  PCPI_CI      40277        0  United States     NaN        2010   \n",
      "3     USD  PCPI_CI      34073     1000        Alabama     NaN        2010   \n",
      "4     USD  PCPI_CI      30202     1000        Alabama     NaN        2005   \n",
      "\n",
      "   UNIT_MULT  \n",
      "0          0  \n",
      "1          0  \n",
      "2          0  \n",
      "3          0  \n",
      "4          0  \n"
     ]
    }
   ],
   "source": [
    "# access the BEA data API...\n",
    "data = pybea.get_data(USER_ID,\n",
    "                      DataSetName='RegionalData',\n",
    "                      KeyCodes=['PCPI_CI'],\n",
    "                      GeoFips='STATE',\n",
    "                      Year=['2000', '2005', '2010'],\n",
    "                      )\n",
    "\n",
    "# ...display the resulting Pandas DataFrame\n",
    "print(data.head())"
   ]
  },
  {
   "cell_type": "markdown",
   "metadata": {},
   "source": [
    "# NIPA (National Income and Product Accounts)\n",
    "\n",
    "The NIPA dataset contains data from the standard set of NIPA tables as published in the Survey of Current Business. Availability of updated NIPA data follows the BEA News Release schedule as posted on the BEA web site. The NIPA dataset may be unavailable for a few minutes preceding the monthly GDP release while data is being updated (as it is for all other methods of acquiring newly released data). "
   ]
  },
  {
   "cell_type": "code",
   "execution_count": 14,
   "metadata": {
    "collapsed": false
   },
   "outputs": [
    {
     "name": "stdout",
     "output_type": "stream",
     "text": [
      "  AllValue  MultipleAcceptedFlag ParameterDataType ParameterDefaultValue  \\\n",
      "0                              0           integer                         \n",
      "1                              1            string                         \n",
      "2        X                     1           integer                         \n",
      "3                              0            string                     N   \n",
      "\n",
      "                                ParameterDescription  ParameterIsRequiredFlag  \\\n",
      "0                 The standard NIPA table identifier                        1   \n",
      "1                 A - Annual, Q-Quarterly, M-Monthly                        1   \n",
      "2    List of year(s) of data to retrieve (X for All)                        1   \n",
      "3  A flag indicating that million-dollar data sho...                        0   \n",
      "\n",
      "  ParameterName  \n",
      "0       TableID  \n",
      "1     Frequency  \n",
      "2          Year  \n",
      "3  ShowMillions  \n"
     ]
    }
   ],
   "source": [
    "# access the BEA data API...\n",
    "meta_data = pybea.get_parameter_list(USER_ID, DataSetName='NIPA')\n",
    "\n",
    "# ...display the resulting Pandas DataFrame\n",
    "print(meta_data)"
   ]
  },
  {
   "cell_type": "code",
   "execution_count": 15,
   "metadata": {
    "collapsed": false
   },
   "outputs": [
    {
     "name": "stdout",
     "output_type": "stream",
     "text": [
      "                                           Description  TableID\n",
      "0    Table 1.1.1. Percent Change From Preceding Per...        1\n",
      "1    Table 1.1.2. Contributions to Percent Change i...        2\n",
      "2    Table 1.1.3. Real Gross Domestic Product, Quan...        3\n",
      "3    Table 1.1.4. Price Indexes for Gross Domestic ...        4\n",
      "4          Table 1.1.5. Gross Domestic Product (A) (Q)        5\n",
      "5    Table 1.1.6. Real Gross Domestic Product, Chai...        6\n",
      "6    Table 1.1.6A. Real Gross Domestic Product, Cha...        7\n",
      "7    Table 1.1.6B. Real Gross Domestic Product, Cha...        8\n",
      "8    Table 1.1.6C. Real Gross Domestic Product, Cha...        9\n",
      "9    Table 1.1.6D. Real Gross Domestic Product, Cha...       10\n",
      "10   Table 1.1.7. Percent Change From Preceding Per...       11\n",
      "11   Table 1.1.8. Contributions to Percent Change i...       12\n",
      "12   Table 1.1.9. Implicit Price Deflators for Gros...       13\n",
      "13   Table 1.1.10. Percentage Shares of Gross Domes...       14\n",
      "14   Table 1.1.11. Real Gross Domestic Product: Per...      310\n",
      "15   Table 1.2.1. Percent Change From Preceding Per...       15\n",
      "16   Table 1.2.2. Contributions to Percent Change i...       16\n",
      "17   Table 1.2.3. Real Gross Domestic Product by Ma...       17\n",
      "18   Table 1.2.4. Price Indexes for Gross Domestic ...       18\n",
      "19   Table 1.2.5. Gross Domestic Product by Major T...       19\n",
      "20   Table 1.2.6. Real Gross Domestic Product by Ma...       20\n",
      "21   Table 1.3.1. Percent Change From Preceding Per...       21\n",
      "22   Table 1.3.3. Real Gross Value Added by Sector,...       22\n",
      "23   Table 1.3.4. Price Indexes for Gross Value Add...       23\n",
      "24    Table 1.3.5. Gross Value Added by Sector (A) (Q)       24\n",
      "25   Table 1.3.6. Real Gross Value Added by Sector,...       25\n",
      "26   Table 1.4.1. Percent Change From Preceding Per...       26\n",
      "27   Table 1.4.3. Real Gross Domestic Product, Real...       27\n",
      "28   Table 1.4.4. Price Indexes for Gross Domestic ...       28\n",
      "29   Table 1.4.5. Relation of Gross Domestic Produc...       29\n",
      "..                                                 ...      ...\n",
      "282  Table 7.2.6B. Real Motor Vehicle Output, Chain...      273\n",
      "283  Table 7.3.3. Real Farm Sector Output, Real Gro...      274\n",
      "284  Table 7.3.4. Price Indexes for Farm Sector Out...      275\n",
      "285  Table 7.3.5. Farm Sector Output, Gross Value A...      276\n",
      "286  Table 7.3.6. Real Farm Sector Output, Real Gro...      277\n",
      "287  Table 7.4.3. Real Housing Sector Output, Real ...      278\n",
      "288  Table 7.4.4. Price Indexes for Housing Sector ...      279\n",
      "289  Table 7.4.5. Housing Sector Output, Gross Valu...      280\n",
      "290  Table 7.4.6. Real Housing Sector Output, Real ...      281\n",
      "291  Table 7.5. Consumption of Fixed Capital by Leg...      282\n",
      "292  Table 7.6. Capital Consumption Adjustment by L...      283\n",
      "293  Table 7.7. Business Current Transfer Payments ...      284\n",
      "294  Table 7.8. Supplements to Wages and Salaries b...      285\n",
      "295  Table 7.9. Rental Income of Persons by Legal F...      286\n",
      "296  Table 7.10. Dividends Paid and Received by Sec...      287\n",
      "297  Table 7.11. Interest Paid and Received by Sect...      288\n",
      "298  Table 7.12. Imputations in the National Income...      289\n",
      "299  Table 7.13. Relation of Consumption of Fixed C...      290\n",
      "300  Table 7.14. Relation of Nonfarm Proprietors' I...      291\n",
      "301  Table 7.15. Relation of Net Farm Income in the...      292\n",
      "302  Table 7.16. Relation of Corporate Profits, Tax...      293\n",
      "303  Table 7.17. Relation of Monetary Interest Paid...      294\n",
      "304  Table 7.18. Relation of Wages and Salaries in ...      295\n",
      "305  Table 7.19. Comparison of Income and Outlays o...      297\n",
      "306  Table 7.20. Transactions of Defined Benefit an...      296\n",
      "307  Table 7.21. Transactions of Defined Benefit Pe...      392\n",
      "308  Table 7.22. Transactions of Private Defined Be...      393\n",
      "309  Table 7.23. Transactions of Federal Government...      394\n",
      "310  Table 7.24. Transactions of State and Local Go...      395\n",
      "311  Table 7.25. Transactions of Defined Contributi...      397\n",
      "\n",
      "[312 rows x 2 columns]\n"
     ]
    }
   ],
   "source": [
    "# access the BEA data API...\n",
    "meta_data = pybea.get_parameter_values(USER_ID,\n",
    "                                       DataSetName='NIPA',\n",
    "                                       ParameterName='TableID')\n",
    "\n",
    "# ...display the resulting Pandas DataFrame\n",
    "print(meta_data)"
   ]
  },
  {
   "cell_type": "markdown",
   "metadata": {},
   "source": [
    "# NIUnderlyingDetail (National Income and Product Accounts)\n",
    "\n",
    "The NIUnderlyingDetail dataset contains detailed estimate data from underlying NIPA series that appear in the national income and product account (NIPA) tables as published in the Survey of Current Business."
   ]
  },
  {
   "cell_type": "code",
   "execution_count": 13,
   "metadata": {
    "collapsed": false
   },
   "outputs": [],
   "source": []
  },
  {
   "cell_type": "markdown",
   "metadata": {},
   "source": [
    "# Fixed Assets\n",
    "\n",
    "The FixedAssets dataset contains data from the standard set of Fixed Assets tables as published online. "
   ]
  },
  {
   "cell_type": "code",
   "execution_count": null,
   "metadata": {
    "collapsed": false
   },
   "outputs": [],
   "source": []
  }
 ],
 "metadata": {
  "kernelspec": {
   "display_name": "Python 3",
   "language": "python",
   "name": "python3"
  },
  "language_info": {
   "codemirror_mode": {
    "name": "ipython",
    "version": 3
   },
   "file_extension": ".py",
   "mimetype": "text/x-python",
   "name": "python",
   "nbconvert_exporter": "python",
   "pygments_lexer": "ipython3",
   "version": "3.5.1"
  }
 },
 "nbformat": 4,
 "nbformat_minor": 0
}
