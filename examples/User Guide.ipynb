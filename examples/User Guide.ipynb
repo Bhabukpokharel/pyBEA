{
 "metadata": {
  "name": "",
  "signature": "sha256:55d9967b6e1cfa85dc40e02fd45156012ed833aea47796cd36b89b1b41414f76"
 },
 "nbformat": 3,
 "nbformat_minor": 0,
 "worksheets": [
  {
   "cells": [
    {
     "cell_type": "markdown",
     "metadata": {},
     "source": [
      "# Introduction\n",
      "\n",
      "The Bureau of Economic Analysis (BEA) publishes economic statistics in a variety of formats. This document describes the BEA Data Retrieval Application Programming Interface (API) \u2013 including detailed instructions for retrieving data and meta-data published by BEA using the pyBEA package. \n",
      "\n",
      "The pyBEA pacakge provides a simple interface to the BEA API and includes methods for retrieving a subset of BEA statistical data, including any meta-data describing it, and loading the results into a Pandas DataFrame object for further analysis.\n",
      "\n",
      "## Data Return Format\n",
      "The BEA API returns data in one of two formats: JSON or XML (with JSON being the default). Currently the pyBEA package only supports JSON requests.\n"
     ]
    },
    {
     "cell_type": "code",
     "collapsed": false,
     "input": [
      "import pybea"
     ],
     "language": "python",
     "metadata": {},
     "outputs": [],
     "prompt_number": 1
    },
    {
     "cell_type": "markdown",
     "metadata": {},
     "source": [
      "## Meta-Data API Methods\n",
      "\n",
      "The BEA API contains three methods for retrieving meta-data as follows:\n",
      "\n",
      "1. `GetDataSetList`: retrieves a list of the datasets currently offered.\n",
      "2. `GetParameterList`: retrieves a list of the parameters (required and optional) for a particular dataset.\n",
      "3. `GetParameterValues`: retrieves a list of the valid values for a particular parameter.\n",
      "\n",
      "Each of these methods has a corresponding function in the `pybea` package."
     ]
    },
    {
     "cell_type": "code",
     "collapsed": false,
     "input": [
      "pybea.get_data_set_list?"
     ],
     "language": "python",
     "metadata": {},
     "outputs": [],
     "prompt_number": 2
    },
    {
     "cell_type": "code",
     "collapsed": false,
     "input": [
      "pybea.get_parameter_list?"
     ],
     "language": "python",
     "metadata": {},
     "outputs": [],
     "prompt_number": 3
    },
    {
     "cell_type": "code",
     "collapsed": false,
     "input": [
      "pybea.get_parameter_values?"
     ],
     "language": "python",
     "metadata": {},
     "outputs": [],
     "prompt_number": 4
    },
    {
     "cell_type": "markdown",
     "metadata": {},
     "source": [
      "### Example usage"
     ]
    },
    {
     "cell_type": "code",
     "collapsed": false,
     "input": [
      "# access the BEA data API...\n",
      "meta_data = pybea.get_data_set_list()\n",
      "\n",
      "# ...display the resulting Pandas DataFrame\n",
      "print(meta_data)"
     ],
     "language": "python",
     "metadata": {},
     "outputs": [
      {
       "output_type": "stream",
       "stream": "stdout",
       "text": [
        "                     DatasetDescription         DatasetName\n",
        "0   Retrieves various Regional datasets        RegionalData\n",
        "1                  Standard NIPA tables                NIPA\n",
        "2  Standard NI underlying detail tables  NIUnderlyingDetail\n",
        "3          Standard Fixed Assets tables         FixedAssets\n"
       ]
      }
     ],
     "prompt_number": 2
    },
    {
     "cell_type": "code",
     "collapsed": false,
     "input": [
      "# access the BEA data API...\n",
      "meta_data = pybea.get_parameter_list(DataSetName='RegionalData')\n",
      "\n",
      "# ...display the resulting Pandas DataFrame\n",
      "print(meta_data)"
     ],
     "language": "python",
     "metadata": {},
     "outputs": [
      {
       "output_type": "stream",
       "stream": "stdout",
       "text": [
        "  AllValue  MultipleAcceptedFlag ParameterDataType ParameterDefaultValue  \\\n",
        "0      NaN                     0            string                   NaN   \n",
        "1      NaN                     1            string                 STATE   \n",
        "2      ALL                     1           integer                   ALL   \n",
        "\n",
        "                      ParameterDescription  ParameterIsRequiredFlag  \\\n",
        "0  The code of the key statistic requested                        1   \n",
        "1                             GeoFips Code                        0   \n",
        "2                                     Year                        0   \n",
        "\n",
        "  ParameterName  \n",
        "0       KeyCode  \n",
        "1       GeoFips  \n",
        "2          Year  \n"
       ]
      }
     ],
     "prompt_number": 3
    },
    {
     "cell_type": "code",
     "collapsed": false,
     "input": [
      "# access the BEA data API...\n",
      "meta_data = pybea.get_parameter_values(DataSetName='RegionalData',\n",
      "                                       ParameterName='KeyCode')\n",
      "\n",
      "# ...display the resulting Pandas DataFrame\n",
      "print(meta_data)"
     ],
     "language": "python",
     "metadata": {},
     "outputs": [
      {
       "output_type": "stream",
       "stream": "stdout",
       "text": [
        "                                          Description    KeyCode\n",
        "0   Gross Domestic Product (GDP) (state annual pro...     GDP_SP\n",
        "1                     Real GDP (state annual product)    RGDP_SP\n",
        "2          Per capita Real GDP (state annual product)  PCRGDP_SP\n",
        "3    Compensation of Employees (state annual product)    COMP_SP\n",
        "4   Taxes on Production and Imports less Subsidies...  TOPILS_SP\n",
        "5      Gross Operating Surplus (state annual product)     GOS_SP\n",
        "6                    Subsidies (state annual product)    SUBS_SP\n",
        "7   Taxes on Production and Imports (state annual ...    TOPI_SP\n",
        "8   Gross Domestic Product (GDP) (MSA annual product)     GDP_MP\n",
        "9                       Real GDP (MSA annual product)    RGDP_MP\n",
        "10           Per capita Real GDP (MSA annual product)  PCRGDP_MP\n",
        "11        Total Personal Income (state annual income)     TPI_SI\n",
        "12                   Population (state annual income)     POP_SI\n",
        "13   Per Capita personal income (state annual income)    PCPI_SI\n",
        "14      Nonfarm personal income (state annual income)    NFPI_SI\n",
        "15                  Farm income (state annual income)     FPI_SI\n",
        "16    Earnings by place of work (state annual income)    EARN_SI\n",
        "17  Contributions for government social insurance ...    CGSI_SI\n",
        "18     Adjustment for residence (state annual income)      AR_SI\n",
        "19  Net Earnings by place of residence (state annu...      NE_SI\n",
        "20  Dividends, interest, and rent (state annual in...     DIR_SI\n",
        "21  Personal current transfer receipts (state annu...    PCTR_SI\n",
        "22           Wages and salaries (state annual income)      WS_SI\n",
        "23  Supplements to wages and salaries (state annua...    SUPP_SI\n",
        "24           Proprietors Income (state annual income)    PROP_SI\n",
        "25  Total Employment (full and part time) (state a...  EMP000_SI\n",
        "26   Wage and salary employment (state annual income)  EMP100_SI\n",
        "27       Proprietors employment (state annual income)  EMP200_SI\n",
        "28     Average earnings per job (state annual income)  PJEARN_SI\n",
        "29         Average wage per job (state annual income)    PJWS_SI\n",
        "..                                                ...        ...\n",
        "55     Per Capita personal income (MSA annual income)    PCPI_MI\n",
        "56        Nonfarm personal income (MSA annual income)    NFPI_MI\n",
        "57                    Farm income (MSA annual income)     FPI_MI\n",
        "58      Earnings by place of work (MSA annual income)    EARN_MI\n",
        "59  Contributions for government social insurance ...    CGSI_MI\n",
        "60       Adjustment for residence (MSA annual income)      AR_MI\n",
        "61  Net Earnings by place of residence (MSA annual...      NE_MI\n",
        "62  Dividends, interest, and rent (MSA annual income)     DIR_MI\n",
        "63  Personal current transfer receipts (MSA annual...    PCTR_MI\n",
        "64             Wages and salaries (MSA annual income)      WS_MI\n",
        "65  Supplements to wages and salaries (MSA annual ...    SUPP_MI\n",
        "66             Proprietors Income (MSA annual income)    PROP_MI\n",
        "67  Total Employment (full and part time) (MSA ann...  EMP000_MI\n",
        "68     Wage and salary employment (MSA annual income)  EMP100_MI\n",
        "69         Proprietors employment (MSA annual income)  EMP200_MI\n",
        "70       Average earnings per job (MSA annual income)  PJEARN_MI\n",
        "71           Average wage per job (MSA annual income)    PJWS_MI\n",
        "72   Average compensation per job (MSA annual income)  PJCOMP_MI\n",
        "73     Total Personal Income (state quarterly income)     TPI_QI\n",
        "74   Nonfarm personal income (state quarterly income)    NFPI_QI\n",
        "75               Farm income (state quarterly income)     FPI_QI\n",
        "76  Earnings by place of work (state quarterly inc...    EARN_QI\n",
        "77  Contributions for government social insurance ...    CGSI_QI\n",
        "78  Adjustment for residence (state quarterly income)      AR_QI\n",
        "79  Net Earnings by place of residence (state quar...      NE_QI\n",
        "80  Dividends, interest, and rent (state quarterly...     DIR_QI\n",
        "81  Personal current transfer receipts (state quar...    PCTR_QI\n",
        "82        Wages and salaries (state quarterly income)      WS_QI\n",
        "83  Supplements to wages and salaries (state quart...    SUPP_QI\n",
        "84        Proprietors Income (state quarterly income)    PROP_QI\n",
        "\n",
        "[85 rows x 2 columns]\n"
       ]
      }
     ],
     "prompt_number": 4
    },
    {
     "cell_type": "markdown",
     "metadata": {},
     "source": [
      "## Data Retrieval API Method\n",
      "\n",
      "The BEA API has one method for retrieving data: `GetData`. This method has its own function in the `pybea` package. "
     ]
    },
    {
     "cell_type": "code",
     "collapsed": false,
     "input": [
      "pybea.get_data?"
     ],
     "language": "python",
     "metadata": {},
     "outputs": [],
     "prompt_number": 14
    },
    {
     "cell_type": "markdown",
     "metadata": {},
     "source": [
      "### Example Usage\n",
      "\n",
      "Fetch data on per capita personal income for all U.S. States in the year 2009."
     ]
    },
    {
     "cell_type": "code",
     "collapsed": false,
     "input": [
      "# access the BEA data API...\n",
      "data = pybea.get_data(DataSetName='RegionalData',\n",
      "                      KeyCode='PCPI_CI',\n",
      "                      GeoFips='STATE',\n",
      "                      Year='2009',\n",
      "                      )\n",
      "\n",
      "# ...display the resulting Pandas DataFrame\n",
      "print(data.head())"
     ],
     "language": "python",
     "metadata": {},
     "outputs": [
      {
       "output_type": "stream",
       "stream": "stdout",
       "text": [
        "  CL_UNIT     Code  DataValue  GeoFips        GeoName NoteRef  TimePeriod  \\\n",
        "0     USD  PCPI_CI      39357        0  United States     NaN        2009   \n",
        "1     USD  PCPI_CI      32930     1000        Alabama     NaN        2009   \n",
        "2     USD  PCPI_CI      44275     2000         Alaska       *        2009   \n",
        "3     USD  PCPI_CI      33972     4000        Arizona       *        2009   \n",
        "4     USD  PCPI_CI      31629     5000       Arkansas     NaN        2009   \n",
        "\n",
        "   UNIT_MULT  \n",
        "0          0  \n",
        "1          0  \n",
        "2          0  \n",
        "3          0  \n",
        "4          0  \n"
       ]
      }
     ],
     "prompt_number": 5
    },
    {
     "cell_type": "markdown",
     "metadata": {},
     "source": [
      "# RegionalData\n",
      "\n",
      "The RegionalData dataset contains estimates from the Regional Economic Accounts. These include estimates of GDP by State and Metropolitan Area, and estimates of Personal Income and Employment by State, Metropolitan Area, and County. "
     ]
    },
    {
     "cell_type": "code",
     "collapsed": false,
     "input": [
      "# access the BEA data API...\n",
      "data = pybea.get_data(DataSetName='RegionalData',\n",
      "                      KeyCode='PCPI_CI',\n",
      "                      GeoFips='STATE',\n",
      "                      Year=['2000', '2005', '2010'],\n",
      "                      )\n",
      "\n",
      "# ...display the resulting Pandas DataFrame\n",
      "print(data.head())"
     ],
     "language": "python",
     "metadata": {},
     "outputs": [
      {
       "output_type": "stream",
       "stream": "stdout",
       "text": [
        "  CL_UNIT     Code  DataValue  GeoFips        GeoName NoteRef  TimePeriod  \\\n",
        "0     USD  PCPI_CI      30587        0  United States     NaN        2000   \n",
        "1     USD  PCPI_CI      35888        0  United States     NaN        2005   \n",
        "2     USD  PCPI_CI      40163        0  United States     NaN        2010   \n",
        "3     USD  PCPI_CI      33905     1000        Alabama     NaN        2010   \n",
        "4     USD  PCPI_CI      30188     1000        Alabama     NaN        2005   \n",
        "\n",
        "   UNIT_MULT  \n",
        "0          0  \n",
        "1          0  \n",
        "2          0  \n",
        "3          0  \n",
        "4          0  \n"
       ]
      }
     ],
     "prompt_number": 6
    },
    {
     "cell_type": "markdown",
     "metadata": {},
     "source": [
      "# NIPA (National Income and Product Accounts)\n",
      "\n",
      "The NIPA dataset contains data from the standard set of NIPA tables as published in the Survey of Current Business. Availability of updated NIPA data follows the BEA News Release schedule as posted on the BEA web site. The NIPA dataset may be unavailable for a few minutes preceding the monthly GDP release while data is being updated (as it is for all other methods of acquiring newly released data). "
     ]
    },
    {
     "cell_type": "code",
     "collapsed": false,
     "input": [
      "# access the BEA data API...\n",
      "meta_data = pybea.get_parameter_list(DataSetName='NIPA')\n",
      "\n",
      "# ...display the resulting Pandas DataFrame\n",
      "print(meta_data)"
     ],
     "language": "python",
     "metadata": {},
     "outputs": [
      {
       "output_type": "stream",
       "stream": "stdout",
       "text": [
        "  AllValue  MultipleAcceptedFlag ParameterDataType ParameterDefaultValue  \\\n",
        "0      NaN                     0           integer                   NaN   \n",
        "1      NaN                     1            string                   NaN   \n",
        "2        X                     1           integer                   NaN   \n",
        "3      NaN                     0            string                     N   \n",
        "\n",
        "                                ParameterDescription  ParameterIsRequiredFlag  \\\n",
        "0                 The standard NIPA table identifier                        1   \n",
        "1                 A - Annual, Q-Quarterly, M-Monthly                        1   \n",
        "2    List of year(s) of data to retrieve (X for All)                        1   \n",
        "3  A flag indicating that million-dollar data sho...                        0   \n",
        "\n",
        "  ParameterName  \n",
        "0       TableID  \n",
        "1     Frequency  \n",
        "2          Year  \n",
        "3  ShowMillions  \n"
       ]
      }
     ],
     "prompt_number": 7
    },
    {
     "cell_type": "code",
     "collapsed": false,
     "input": [
      "# access the BEA data API...\n",
      "meta_data = pybea.get_parameter_values(DataSetName='NIPA',\n",
      "                                       ParameterName='TableID')\n",
      "\n",
      "# ...display the resulting Pandas DataFrame\n",
      "print(meta_data)"
     ],
     "language": "python",
     "metadata": {},
     "outputs": [
      {
       "output_type": "stream",
       "stream": "stdout",
       "text": [
        "                                           Description  TableID\n",
        "0    Table 1.1.1. Percent Change From Preceding Per...        1\n",
        "1    Table 1.1.2. Contributions to Percent Change i...        2\n",
        "2    Table 1.1.3. Real Gross Domestic Product, Quan...        3\n",
        "3    Table 1.1.4. Price Indexes for Gross Domestic ...        4\n",
        "4          Table 1.1.5. Gross Domestic Product (A) (Q)        5\n",
        "5    Table 1.1.6. Real Gross Domestic Product, Chai...        6\n",
        "6    Table 1.1.6A. Real Gross Domestic Product, Cha...        7\n",
        "7    Table 1.1.6B. Real Gross Domestic Product, Cha...        8\n",
        "8    Table 1.1.6C. Real Gross Domestic Product, Cha...        9\n",
        "9    Table 1.1.6D. Real Gross Domestic Product, Cha...       10\n",
        "10   Table 1.1.7. Percent Change From Preceding Per...       11\n",
        "11   Table 1.1.8. Contributions to Percent Change i...       12\n",
        "12   Table 1.1.9. Implicit Price Deflators for Gros...       13\n",
        "13   Table 1.1.10. Percentage Shares of Gross Domes...       14\n",
        "14   Table 1.1.11. Real Gross Domestic Product: Per...      310\n",
        "15   Table 1.2.1. Percent Change From Preceding Per...       15\n",
        "16   Table 1.2.2. Contributions to Percent Change i...       16\n",
        "17   Table 1.2.3. Real Gross Domestic Product by Ma...       17\n",
        "18   Table 1.2.4. Price Indexes for Gross Domestic ...       18\n",
        "19   Table 1.2.5. Gross Domestic Product by Major T...       19\n",
        "20   Table 1.2.6. Real Gross Domestic Product by Ma...       20\n",
        "21   Table 1.3.1. Percent Change From Preceding Per...       21\n",
        "22   Table 1.3.3. Real Gross Value Added by Sector,...       22\n",
        "23   Table 1.3.4. Price Indexes for Gross Value Add...       23\n",
        "24    Table 1.3.5. Gross Value Added by Sector (A) (Q)       24\n",
        "25   Table 1.3.6. Real Gross Value Added by Sector,...       25\n",
        "26   Table 1.4.1. Percent Change From Preceding Per...       26\n",
        "27   Table 1.4.3. Real Gross Domestic Product, Real...       27\n",
        "28   Table 1.4.4. Price Indexes for Gross Domestic ...       28\n",
        "29   Table 1.4.5. Relation of Gross Domestic Produc...       29\n",
        "..                                                 ...      ...\n",
        "273         Table 7.2.5B. Motor Vehicle Output (A) (Q)      272\n",
        "274  Table 7.2.6B. Real Motor Vehicle Output, Chain...      273\n",
        "275  Table 7.3.3. Real Farm Sector Output, Real Gro...      274\n",
        "276  Table 7.3.4. Price Indexes for Farm Sector Out...      275\n",
        "277  Table 7.3.5. Farm Sector Output, Gross Value A...      276\n",
        "278  Table 7.3.6. Real Farm Sector Output, Real Gro...      277\n",
        "279  Table 7.4.3. Real Housing Sector Output, Real ...      278\n",
        "280  Table 7.4.4. Price Indexes for Housing Sector ...      279\n",
        "281  Table 7.4.5. Housing Sector Output, Gross Valu...      280\n",
        "282  Table 7.4.6. Real Housing Sector Output, Real ...      281\n",
        "283  Table 7.5. Consumption of Fixed Capital by Leg...      282\n",
        "284  Table 7.6. Capital Consumption Adjustment by L...      283\n",
        "285  Table 7.7. Business Current Transfer Payments ...      284\n",
        "286  Table 7.8. Supplements to Wages and Salaries b...      285\n",
        "287  Table 7.9. Rental Income of Persons by Legal F...      286\n",
        "288  Table 7.10. Dividends Paid and Received by Sec...      287\n",
        "289  Table 7.11. Interest Paid and Received by Sect...      288\n",
        "290  Table 7.12. Imputations in the National Income...      289\n",
        "291  Table 7.13. Relation of Consumption of Fixed C...      290\n",
        "292  Table 7.14. Relation of Nonfarm Proprietors' I...      291\n",
        "293  Table 7.15. Relation of Net Farm Income in the...      292\n",
        "294  Table 7.16. Relation of Corporate Profits, Tax...      293\n",
        "295  Table 7.17. Relation of Monetary Interest Paid...      294\n",
        "296  Table 7.18. Relation of Wages and Salaries in ...      295\n",
        "297  Table 7.20. Transactions of Defined Benefit an...      296\n",
        "298  Table 7.21. Transactions of Defined Benefit Pe...      392\n",
        "299  Table 7.22. Transactions of Private Defined Be...      393\n",
        "300  Table 7.23. Transactions of Federal Government...      394\n",
        "301  Table 7.24. Transactions of State and Local Go...      395\n",
        "302  Table 7.25. Transactions of Defined Contributi...      397\n",
        "\n",
        "[303 rows x 2 columns]\n"
       ]
      }
     ],
     "prompt_number": 8
    },
    {
     "cell_type": "markdown",
     "metadata": {},
     "source": [
      "# NIUnderlyingDetail (National Income and Product Accounts)\n",
      "\n",
      "The NIUnderlyingDetail dataset contains detailed estimate data from underlying NIPA series that appear in the national income and product account (NIPA) tables as published in the Survey of Current Business."
     ]
    },
    {
     "cell_type": "code",
     "collapsed": false,
     "input": [],
     "language": "python",
     "metadata": {},
     "outputs": [],
     "prompt_number": 13
    },
    {
     "cell_type": "markdown",
     "metadata": {},
     "source": [
      "# Fixed Assets\n",
      "\n",
      "The FixedAssets dataset contains data from the standard set of Fixed Assets tables as published online. "
     ]
    },
    {
     "cell_type": "code",
     "collapsed": false,
     "input": [],
     "language": "python",
     "metadata": {},
     "outputs": []
    }
   ],
   "metadata": {}
  }
 ]
}