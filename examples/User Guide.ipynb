{
 "metadata": {
  "name": "",
  "signature": "sha256:38adeb2f2819e89275139e496eba304b74d7573e180efdc183e16c96a34a01db"
 },
 "nbformat": 3,
 "nbformat_minor": 0,
 "worksheets": [
  {
   "cells": [
    {
     "cell_type": "markdown",
     "metadata": {},
     "source": [
      "# Introduction\n",
      "\n",
      "The Bureau of Economic Analysis (BEA) publishes economic statistics in a variety of formats. This document describes the BEA Data Retrieval Application Programming Interface (API) \u2013 including detailed instructions for retrieving data and meta-data published by BEA using the pyBEA package. \n",
      "\n",
      "The pyBEA pacakge provides a simple interface to the BEA API and includes methods for retrieving a subset of BEA statistical data, including any meta-data describing it, and loading the results into a Pandas DataFrame object for further analysis.\n",
      "\n",
      "## Access to the BEA API\n",
      "The BEA API is available to registered users on the BEA public web site. Before using the pyBEA package, users must obtain a unique 36-character UserID by registering with the BEA API at http://www.bea.gov/api/signup/ . \n",
      "\n",
      "To register with the BEA API, users must provide their name (or organization name), a valid email address, and agree to the published terms of service. After completing the registration form an email is sent containing the assigned UserID, and a link that completes the registration process. Assigned UserIDs are activated when the link has been clicked. \n",
      "\n",
      "## Data Return Format\n",
      "The BEA API returns data in one of two formats: JSON or XML (with JSON being the default). Currently the pyBEA pacakge only supports JSON requests.\n"
     ]
    },
    {
     "cell_type": "code",
     "collapsed": false,
     "input": [
      "import pybea"
     ],
     "language": "python",
     "metadata": {},
     "outputs": [],
     "prompt_number": 1
    },
    {
     "cell_type": "markdown",
     "metadata": {},
     "source": [
      "## Meta-Data API Methods\n",
      "\n",
      "The BEA API contains three methods for retrieving meta-data as follows:\n",
      "\n",
      "1. `GetDataSetList`: retrieves a list of the datasets currently offered.\n",
      "2. `GetParameterList`: retrieves a list of the parameters (required and optional) for a particular dataset.\n",
      "3. `GetParameterValues`: retrieves a list of the valid values for a particular parameter.\n",
      "\n",
      "Each of these methods has a corresponding function in the `pybea` package."
     ]
    },
    {
     "cell_type": "code",
     "collapsed": false,
     "input": [
      "pybea.get_data_set_list?"
     ],
     "language": "python",
     "metadata": {},
     "outputs": [],
     "prompt_number": 2
    },
    {
     "cell_type": "code",
     "collapsed": false,
     "input": [
      "pybea.get_parameter_list?"
     ],
     "language": "python",
     "metadata": {},
     "outputs": [],
     "prompt_number": 3
    },
    {
     "cell_type": "code",
     "collapsed": false,
     "input": [
      "pybea.get_parameter_values?"
     ],
     "language": "python",
     "metadata": {},
     "outputs": [],
     "prompt_number": 4
    },
    {
     "cell_type": "markdown",
     "metadata": {},
     "source": [
      "### Example usage"
     ]
    },
    {
     "cell_type": "code",
     "collapsed": false,
     "input": [
      "# access the BEA data API...\n",
      "meta_data = pybea.get_data_set_list(UserID='6F508DBE-6979-4E85-A335-8DAE6187FC0D')\n",
      "\n",
      "# ...display the resulting Pandas DataFrame\n",
      "print(meta_data)"
     ],
     "language": "python",
     "metadata": {},
     "outputs": [
      {
       "output_type": "stream",
       "stream": "stdout",
       "text": [
        "                     DatasetDescription         DatasetName\n",
        "0   Retrieves various Regional datasets        RegionalData\n",
        "1                  Standard NIPA tables                NIPA\n",
        "2  Standard NI underlying detail tables  NIUnderlyingDetail\n",
        "3          Standard Fixed Assets tables         FixedAssets\n"
       ]
      }
     ],
     "prompt_number": 7
    },
    {
     "cell_type": "code",
     "collapsed": false,
     "input": [
      "# access the BEA data API...\n",
      "meta_data = pybea.get_parameter_list(UserID='6F508DBE-6979-4E85-A335-8DAE6187FC0D',\n",
      "                                     DataSetName='RegionalData')\n",
      "\n",
      "# ...display the resulting Pandas DataFrame\n",
      "print(meta_data)"
     ],
     "language": "python",
     "metadata": {},
     "outputs": [
      {
       "output_type": "stream",
       "stream": "stdout",
       "text": [
        "  AllValue  MultipleAcceptedFlag ParameterDataType ParameterDefaultValue  \\\n",
        "0      NaN                     0            string                   NaN   \n",
        "1      NaN                     1            string                 STATE   \n",
        "2      ALL                     1           integer                   ALL   \n",
        "\n",
        "                      ParameterDescription  ParameterIsRequiredFlag  \\\n",
        "0  The code of the key statistic requested                        1   \n",
        "1                             GeoFips Code                        0   \n",
        "2                                     Year                        0   \n",
        "\n",
        "  ParameterName  \n",
        "0       KeyCode  \n",
        "1       GeoFips  \n",
        "2          Year  \n"
       ]
      }
     ],
     "prompt_number": 8
    },
    {
     "cell_type": "code",
     "collapsed": false,
     "input": [
      "# access the BEA data API...\n",
      "meta_data = pybea.get_parameter_values(UserID='6F508DBE-6979-4E85-A335-8DAE6187FC0D',\n",
      "                                       DataSetName='RegionalData',\n",
      "                                       ParameterName='KeyCode')\n",
      "\n",
      "# ...display the resulting Pandas DataFrame\n",
      "print(meta_data)"
     ],
     "language": "python",
     "metadata": {},
     "outputs": [
      {
       "ename": "KeyError",
       "evalue": "'ParamValue'",
       "output_type": "pyerr",
       "traceback": [
        "\u001b[0;31m---------------------------------------------------------------------------\u001b[0m\n\u001b[0;31mKeyError\u001b[0m                                  Traceback (most recent call last)",
        "\u001b[0;32m<ipython-input-9-3297e4e5a3e3>\u001b[0m in \u001b[0;36m<module>\u001b[0;34m()\u001b[0m\n\u001b[1;32m      2\u001b[0m meta_data = pybea.get_parameter_values(UserID='6F508DBE-6979-4E85-A335-8DAE6187FC0D',\n\u001b[1;32m      3\u001b[0m                                        \u001b[0mDataSetName\u001b[0m\u001b[0;34m=\u001b[0m\u001b[0;34m'RegionalData'\u001b[0m\u001b[0;34m,\u001b[0m\u001b[0;34m\u001b[0m\u001b[0m\n\u001b[0;32m----> 4\u001b[0;31m                                        ParameterName='KeyCode')\n\u001b[0m\u001b[1;32m      5\u001b[0m \u001b[0;34m\u001b[0m\u001b[0m\n\u001b[1;32m      6\u001b[0m \u001b[0;31m# ...display the resulting Pandas DataFrame\u001b[0m\u001b[0;34m\u001b[0m\u001b[0;34m\u001b[0m\u001b[0m\n",
        "\u001b[0;32m/Users/drpugh/Research/pyBEA/pybea/pybea.pyc\u001b[0m in \u001b[0;36mget_parameter_values\u001b[0;34m(UserID, DataSetName, ParameterName, ResultFormat)\u001b[0m\n\u001b[1;32m    129\u001b[0m                                              \u001b[0mResultFormat\u001b[0m\u001b[0;34m=\u001b[0m\u001b[0mResultFormat\u001b[0m\u001b[0;34m,\u001b[0m\u001b[0;34m\u001b[0m\u001b[0m\n\u001b[1;32m    130\u001b[0m                                              )\n\u001b[0;32m--> 131\u001b[0;31m     \u001b[0mparam_values\u001b[0m \u001b[0;34m=\u001b[0m \u001b[0mpd\u001b[0m\u001b[0;34m.\u001b[0m\u001b[0mDataFrame\u001b[0m\u001b[0;34m(\u001b[0m\u001b[0mtmp_request\u001b[0m\u001b[0;34m.\u001b[0m\u001b[0mparameter_values\u001b[0m\u001b[0;34m,\u001b[0m \u001b[0mdtype\u001b[0m\u001b[0;34m=\u001b[0m\u001b[0mnp\u001b[0m\u001b[0;34m.\u001b[0m\u001b[0mint64\u001b[0m\u001b[0;34m)\u001b[0m\u001b[0;34m\u001b[0m\u001b[0m\n\u001b[0m\u001b[1;32m    132\u001b[0m     \u001b[0;32mreturn\u001b[0m \u001b[0mparam_values\u001b[0m\u001b[0;34m\u001b[0m\u001b[0m\n\u001b[1;32m    133\u001b[0m \u001b[0;34m\u001b[0m\u001b[0m\n",
        "\u001b[0;32m/Users/drpugh/Research/pyBEA/pybea/api.pyc\u001b[0m in \u001b[0;36mparameter_values\u001b[0;34m(self)\u001b[0m\n\u001b[1;32m    215\u001b[0m     \u001b[0;32mdef\u001b[0m \u001b[0mparameter_values\u001b[0m\u001b[0;34m(\u001b[0m\u001b[0mself\u001b[0m\u001b[0;34m)\u001b[0m\u001b[0;34m:\u001b[0m\u001b[0;34m\u001b[0m\u001b[0m\n\u001b[1;32m    216\u001b[0m         \u001b[0;32mif\u001b[0m \u001b[0mself\u001b[0m\u001b[0;34m[\u001b[0m\u001b[0;34m'ResultFormat'\u001b[0m\u001b[0;34m]\u001b[0m \u001b[0;34m==\u001b[0m \u001b[0;34m'JSON'\u001b[0m\u001b[0;34m:\u001b[0m\u001b[0;34m\u001b[0m\u001b[0m\n\u001b[0;32m--> 217\u001b[0;31m             \u001b[0mtmp_parameter_values\u001b[0m \u001b[0;34m=\u001b[0m \u001b[0mself\u001b[0m\u001b[0;34m.\u001b[0m\u001b[0m_json_parameter_values\u001b[0m\u001b[0;34m\u001b[0m\u001b[0m\n\u001b[0m\u001b[1;32m    218\u001b[0m         \u001b[0;32melse\u001b[0m\u001b[0;34m:\u001b[0m\u001b[0;34m\u001b[0m\u001b[0m\n\u001b[1;32m    219\u001b[0m             \u001b[0mtmp_parameter_values\u001b[0m \u001b[0;34m=\u001b[0m \u001b[0mself\u001b[0m\u001b[0;34m.\u001b[0m\u001b[0m_xml_parameter_values\u001b[0m\u001b[0;34m\u001b[0m\u001b[0m\n",
        "\u001b[0;32m/Users/drpugh/Research/pyBEA/pybea/api.pyc\u001b[0m in \u001b[0;36m_json_parameter_values\u001b[0;34m(self)\u001b[0m\n\u001b[1;32m    206\u001b[0m     \u001b[0;34m@\u001b[0m\u001b[0mproperty\u001b[0m\u001b[0;34m\u001b[0m\u001b[0m\n\u001b[1;32m    207\u001b[0m     \u001b[0;32mdef\u001b[0m \u001b[0m_json_parameter_values\u001b[0m\u001b[0;34m(\u001b[0m\u001b[0mself\u001b[0m\u001b[0;34m)\u001b[0m\u001b[0;34m:\u001b[0m\u001b[0;34m\u001b[0m\u001b[0m\n\u001b[0;32m--> 208\u001b[0;31m         \u001b[0;32mreturn\u001b[0m \u001b[0mself\u001b[0m\u001b[0;34m.\u001b[0m\u001b[0mresults\u001b[0m\u001b[0;34m[\u001b[0m\u001b[0;34m'ParamValue'\u001b[0m\u001b[0;34m]\u001b[0m\u001b[0;34m\u001b[0m\u001b[0m\n\u001b[0m\u001b[1;32m    209\u001b[0m \u001b[0;34m\u001b[0m\u001b[0m\n\u001b[1;32m    210\u001b[0m     \u001b[0;34m@\u001b[0m\u001b[0mproperty\u001b[0m\u001b[0;34m\u001b[0m\u001b[0m\n",
        "\u001b[0;31mKeyError\u001b[0m: 'ParamValue'"
       ]
      }
     ],
     "prompt_number": 9
    },
    {
     "cell_type": "code",
     "collapsed": false,
     "input": [],
     "language": "python",
     "metadata": {},
     "outputs": []
    }
   ],
   "metadata": {}
  }
 ]
}