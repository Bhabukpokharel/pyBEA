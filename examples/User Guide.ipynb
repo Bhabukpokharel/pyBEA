{
 "metadata": {
  "name": "",
  "signature": "sha256:2e7ac3f7e0bc871cc66acbcd77768baf8b86288004e74e6063aed9a570440609"
 },
 "nbformat": 3,
 "nbformat_minor": 0,
 "worksheets": [
  {
   "cells": [
    {
     "cell_type": "markdown",
     "metadata": {},
     "source": [
      "# Introduction\n",
      "\n",
      "The Bureau of Economic Analysis (BEA) publishes economic statistics in a variety of formats. This document describes the BEA Data Retrieval Application Programming Interface (API) \u2013 including detailed instructions for retrieving data and meta-data published by BEA using the pyBEA package. \n",
      "\n",
      "The pyBEA pacakge provides a simple interface to the BEA API and includes methods for retrieving a subset of BEA statistical data, including any meta-data describing it, and loading the results into a Pandas DataFrame object for further analysis.\n",
      "\n",
      "## Access to the BEA API\n",
      "The BEA API is available to registered users on the BEA public web site. Before using the pyBEA package, users must obtain a unique 36-character UserID by registering with the BEA API at http://www.bea.gov/api/signup/ . \n",
      "\n",
      "To register with the BEA API, users must provide their name (or organization name), a valid email address, and agree to the published terms of service. After completing the registration form an email is sent containing the assigned UserID, and a link that completes the registration process. Assigned UserIDs are activated when the link has been clicked. \n",
      "\n",
      "## Data Return Format\n",
      "The BEA API returns data in one of two formats: JSON or XML (with JSON being the default). Currently the pyBEA package only supports JSON requests.\n"
     ]
    },
    {
     "cell_type": "code",
     "collapsed": false,
     "input": [
      "import pybea"
     ],
     "language": "python",
     "metadata": {},
     "outputs": [],
     "prompt_number": 1
    },
    {
     "cell_type": "markdown",
     "metadata": {},
     "source": [
      "## Meta-Data API Methods\n",
      "\n",
      "The BEA API contains three methods for retrieving meta-data as follows:\n",
      "\n",
      "1. `GetDataSetList`: retrieves a list of the datasets currently offered.\n",
      "2. `GetParameterList`: retrieves a list of the parameters (required and optional) for a particular dataset.\n",
      "3. `GetParameterValues`: retrieves a list of the valid values for a particular parameter.\n",
      "\n",
      "Each of these methods has a corresponding function in the `pybea` package."
     ]
    },
    {
     "cell_type": "code",
     "collapsed": false,
     "input": [
      "pybea.get_data_set_list?"
     ],
     "language": "python",
     "metadata": {},
     "outputs": [],
     "prompt_number": 2
    },
    {
     "cell_type": "code",
     "collapsed": false,
     "input": [
      "pybea.get_parameter_list?"
     ],
     "language": "python",
     "metadata": {},
     "outputs": [],
     "prompt_number": 3
    },
    {
     "cell_type": "code",
     "collapsed": false,
     "input": [
      "pybea.get_parameter_values?"
     ],
     "language": "python",
     "metadata": {},
     "outputs": [],
     "prompt_number": 4
    },
    {
     "cell_type": "markdown",
     "metadata": {},
     "source": [
      "### Example usage"
     ]
    },
    {
     "cell_type": "code",
     "collapsed": false,
     "input": [
      "# access the BEA data API...\n",
      "meta_data = pybea.get_data_set_list(UserID='6F508DBE-6979-4E85-A335-8DAE6187FC0D')\n",
      "\n",
      "# ...display the resulting Pandas DataFrame\n",
      "print(meta_data)"
     ],
     "language": "python",
     "metadata": {},
     "outputs": [
      {
       "output_type": "stream",
       "stream": "stdout",
       "text": [
        "                     DatasetDescription         DatasetName\n",
        "0   Retrieves various Regional datasets        RegionalData\n",
        "1                  Standard NIPA tables                NIPA\n",
        "2  Standard NI underlying detail tables  NIUnderlyingDetail\n",
        "3          Standard Fixed Assets tables         FixedAssets\n"
       ]
      }
     ],
     "prompt_number": 2
    },
    {
     "cell_type": "code",
     "collapsed": false,
     "input": [
      "# access the BEA data API...\n",
      "meta_data = pybea.get_parameter_list(UserID='6F508DBE-6979-4E85-A335-8DAE6187FC0D',\n",
      "                                     DataSetName='RegionalData')\n",
      "\n",
      "# ...display the resulting Pandas DataFrame\n",
      "print(meta_data)"
     ],
     "language": "python",
     "metadata": {},
     "outputs": [
      {
       "output_type": "stream",
       "stream": "stdout",
       "text": [
        "  AllValue  MultipleAcceptedFlag ParameterDataType ParameterDefaultValue  \\\n",
        "0      NaN                     0            string                   NaN   \n",
        "1      NaN                     1            string                 STATE   \n",
        "2      ALL                     1           integer                   ALL   \n",
        "\n",
        "                      ParameterDescription  ParameterIsRequiredFlag  \\\n",
        "0  The code of the key statistic requested                        1   \n",
        "1                             GeoFips Code                        0   \n",
        "2                                     Year                        0   \n",
        "\n",
        "  ParameterName  \n",
        "0       KeyCode  \n",
        "1       GeoFips  \n",
        "2          Year  \n"
       ]
      }
     ],
     "prompt_number": 3
    },
    {
     "cell_type": "code",
     "collapsed": false,
     "input": [
      "# access the BEA data API...\n",
      "meta_data = pybea.get_parameter_values(UserID='6F508DBE-6979-4E85-A335-8DAE6187FC0D',\n",
      "                                       DataSetName='RegionalData',\n",
      "                                       ParameterName='KeyCode')\n",
      "\n",
      "# ...display the resulting Pandas DataFrame\n",
      "print(meta_data)"
     ],
     "language": "python",
     "metadata": {},
     "outputs": [
      {
       "ename": "KeyError",
       "evalue": "'ParamValue'",
       "output_type": "pyerr",
       "traceback": [
        "\u001b[0;31m---------------------------------------------------------------------------\u001b[0m\n\u001b[0;31mKeyError\u001b[0m                                  Traceback (most recent call last)",
        "\u001b[0;32m<ipython-input-4-3297e4e5a3e3>\u001b[0m in \u001b[0;36m<module>\u001b[0;34m()\u001b[0m\n\u001b[1;32m      2\u001b[0m meta_data = pybea.get_parameter_values(UserID='6F508DBE-6979-4E85-A335-8DAE6187FC0D',\n\u001b[1;32m      3\u001b[0m                                        \u001b[0mDataSetName\u001b[0m\u001b[0;34m=\u001b[0m\u001b[0;34m'RegionalData'\u001b[0m\u001b[0;34m,\u001b[0m\u001b[0;34m\u001b[0m\u001b[0m\n\u001b[0;32m----> 4\u001b[0;31m                                        ParameterName='KeyCode')\n\u001b[0m\u001b[1;32m      5\u001b[0m \u001b[0;34m\u001b[0m\u001b[0m\n\u001b[1;32m      6\u001b[0m \u001b[0;31m# ...display the resulting Pandas DataFrame\u001b[0m\u001b[0;34m\u001b[0m\u001b[0;34m\u001b[0m\u001b[0m\n",
        "\u001b[0;32m/Users/drpugh/Research/pyBEA/pybea/pybea.pyc\u001b[0m in \u001b[0;36mget_parameter_values\u001b[0;34m(UserID, DataSetName, ParameterName, ResultFormat)\u001b[0m\n\u001b[1;32m    129\u001b[0m                                              \u001b[0mResultFormat\u001b[0m\u001b[0;34m=\u001b[0m\u001b[0mResultFormat\u001b[0m\u001b[0;34m,\u001b[0m\u001b[0;34m\u001b[0m\u001b[0m\n\u001b[1;32m    130\u001b[0m                                              )\n\u001b[0;32m--> 131\u001b[0;31m     \u001b[0mparam_values\u001b[0m \u001b[0;34m=\u001b[0m \u001b[0mpd\u001b[0m\u001b[0;34m.\u001b[0m\u001b[0mDataFrame\u001b[0m\u001b[0;34m(\u001b[0m\u001b[0mtmp_request\u001b[0m\u001b[0;34m.\u001b[0m\u001b[0mparameter_values\u001b[0m\u001b[0;34m,\u001b[0m \u001b[0mdtype\u001b[0m\u001b[0;34m=\u001b[0m\u001b[0mnp\u001b[0m\u001b[0;34m.\u001b[0m\u001b[0mint64\u001b[0m\u001b[0;34m)\u001b[0m\u001b[0;34m\u001b[0m\u001b[0m\n\u001b[0m\u001b[1;32m    132\u001b[0m     \u001b[0;32mreturn\u001b[0m \u001b[0mparam_values\u001b[0m\u001b[0;34m\u001b[0m\u001b[0m\n\u001b[1;32m    133\u001b[0m \u001b[0;34m\u001b[0m\u001b[0m\n",
        "\u001b[0;32m/Users/drpugh/Research/pyBEA/pybea/api.pyc\u001b[0m in \u001b[0;36mparameter_values\u001b[0;34m(self)\u001b[0m\n\u001b[1;32m    215\u001b[0m     \u001b[0;32mdef\u001b[0m \u001b[0mparameter_values\u001b[0m\u001b[0;34m(\u001b[0m\u001b[0mself\u001b[0m\u001b[0;34m)\u001b[0m\u001b[0;34m:\u001b[0m\u001b[0;34m\u001b[0m\u001b[0m\n\u001b[1;32m    216\u001b[0m         \u001b[0;32mif\u001b[0m \u001b[0mself\u001b[0m\u001b[0;34m[\u001b[0m\u001b[0;34m'ResultFormat'\u001b[0m\u001b[0;34m]\u001b[0m \u001b[0;34m==\u001b[0m \u001b[0;34m'JSON'\u001b[0m\u001b[0;34m:\u001b[0m\u001b[0;34m\u001b[0m\u001b[0m\n\u001b[0;32m--> 217\u001b[0;31m             \u001b[0mtmp_parameter_values\u001b[0m \u001b[0;34m=\u001b[0m \u001b[0mself\u001b[0m\u001b[0;34m.\u001b[0m\u001b[0m_json_parameter_values\u001b[0m\u001b[0;34m\u001b[0m\u001b[0m\n\u001b[0m\u001b[1;32m    218\u001b[0m         \u001b[0;32melse\u001b[0m\u001b[0;34m:\u001b[0m\u001b[0;34m\u001b[0m\u001b[0m\n\u001b[1;32m    219\u001b[0m             \u001b[0mtmp_parameter_values\u001b[0m \u001b[0;34m=\u001b[0m \u001b[0mself\u001b[0m\u001b[0;34m.\u001b[0m\u001b[0m_xml_parameter_values\u001b[0m\u001b[0;34m\u001b[0m\u001b[0m\n",
        "\u001b[0;32m/Users/drpugh/Research/pyBEA/pybea/api.pyc\u001b[0m in \u001b[0;36m_json_parameter_values\u001b[0;34m(self)\u001b[0m\n\u001b[1;32m    206\u001b[0m     \u001b[0;34m@\u001b[0m\u001b[0mproperty\u001b[0m\u001b[0;34m\u001b[0m\u001b[0m\n\u001b[1;32m    207\u001b[0m     \u001b[0;32mdef\u001b[0m \u001b[0m_json_parameter_values\u001b[0m\u001b[0;34m(\u001b[0m\u001b[0mself\u001b[0m\u001b[0;34m)\u001b[0m\u001b[0;34m:\u001b[0m\u001b[0;34m\u001b[0m\u001b[0m\n\u001b[0;32m--> 208\u001b[0;31m         \u001b[0;32mreturn\u001b[0m \u001b[0mself\u001b[0m\u001b[0;34m.\u001b[0m\u001b[0mresults\u001b[0m\u001b[0;34m[\u001b[0m\u001b[0;34m'ParamValue'\u001b[0m\u001b[0;34m]\u001b[0m\u001b[0;34m\u001b[0m\u001b[0m\n\u001b[0m\u001b[1;32m    209\u001b[0m \u001b[0;34m\u001b[0m\u001b[0m\n\u001b[1;32m    210\u001b[0m     \u001b[0;34m@\u001b[0m\u001b[0mproperty\u001b[0m\u001b[0;34m\u001b[0m\u001b[0m\n",
        "\u001b[0;31mKeyError\u001b[0m: 'ParamValue'"
       ]
      }
     ],
     "prompt_number": 4
    },
    {
     "cell_type": "markdown",
     "metadata": {},
     "source": [
      "## Data Retrieval API Method\n",
      "\n",
      "The BEA API has one method for retrieving data: `GetData`. This method has its own function in the `pybea` package. "
     ]
    },
    {
     "cell_type": "code",
     "collapsed": false,
     "input": [
      "pybea.get_data?"
     ],
     "language": "python",
     "metadata": {},
     "outputs": [],
     "prompt_number": 14
    },
    {
     "cell_type": "markdown",
     "metadata": {},
     "source": [
      "### Example Usage"
     ]
    },
    {
     "cell_type": "code",
     "collapsed": false,
     "input": [
      "# access the BEA data API...\n",
      "data = pybea.get_data(UserID='6F508DBE-6979-4E85-A335-8DAE6187FC0D',\n",
      "                      DataSetName='RegionalData',\n",
      "                      KeyCode='PCPI_CI',\n",
      "                      GeoFips='STATE',\n",
      "                      Year='2009',\n",
      "                      )\n",
      "\n",
      "# ...display the resulting Pandas DataFrame\n",
      "print(data.head())"
     ],
     "language": "python",
     "metadata": {},
     "outputs": [
      {
       "output_type": "stream",
       "stream": "stdout",
       "text": [
        "  CL_UNIT     Code  DataValue  GeoFips        GeoName NoteRef  TimePeriod  \\\n",
        "0     USD  PCPI_CI      39357        0  United States     NaN        2009   \n",
        "1     USD  PCPI_CI      32930     1000        Alabama     NaN        2009   \n",
        "2     USD  PCPI_CI      44275     2000         Alaska       *        2009   \n",
        "3     USD  PCPI_CI      33972     4000        Arizona       *        2009   \n",
        "4     USD  PCPI_CI      31629     5000       Arkansas     NaN        2009   \n",
        "\n",
        "   UNIT_MULT  \n",
        "0          0  \n",
        "1          0  \n",
        "2          0  \n",
        "3          0  \n",
        "4          0  \n"
       ]
      }
     ],
     "prompt_number": 5
    },
    {
     "cell_type": "markdown",
     "metadata": {},
     "source": [
      "# RegionalData\n",
      "\n",
      "The RegionalData dataset contains estimates from the Regional Economic Accounts. These include estimates of GDP by State and Metropolitan Area, and estimates of Personal Income and Employment by State, Metropolitan Area, and County. "
     ]
    },
    {
     "cell_type": "code",
     "collapsed": false,
     "input": [],
     "language": "python",
     "metadata": {},
     "outputs": [],
     "prompt_number": 13
    },
    {
     "cell_type": "markdown",
     "metadata": {},
     "source": [
      "# NIPA (National Income and Product Accounts)\n",
      "\n",
      "The NIPA dataset contains data from the standard set of NIPA tables as published in the Survey of Current Business. Availability of updated NIPA data follows the BEA News Release schedule as posted on the BEA web site. The NIPA dataset may be unavailable for a few minutes preceding the monthly GDP release while data is being updated (as it is for all other methods of acquiring newly released data). "
     ]
    },
    {
     "cell_type": "code",
     "collapsed": false,
     "input": [],
     "language": "python",
     "metadata": {},
     "outputs": [],
     "prompt_number": 13
    },
    {
     "cell_type": "markdown",
     "metadata": {},
     "source": [
      "# NIUnderlyingDetail (National Income and Product Accounts)\n",
      "\n",
      "The NIUnderlyingDetail dataset contains detailed estimate data from underlying NIPA series that appear in the national income and product account (NIPA) tables as published in the Survey of Current Business."
     ]
    },
    {
     "cell_type": "code",
     "collapsed": false,
     "input": [],
     "language": "python",
     "metadata": {},
     "outputs": [],
     "prompt_number": 13
    },
    {
     "cell_type": "markdown",
     "metadata": {},
     "source": [
      "# Fixed Assets\n",
      "\n",
      "The FixedAssets dataset contains data from the standard set of Fixed Assets tables as published online. "
     ]
    },
    {
     "cell_type": "code",
     "collapsed": false,
     "input": [],
     "language": "python",
     "metadata": {},
     "outputs": []
    }
   ],
   "metadata": {}
  }
 ]
}